{
 "cells": [
  {
   "cell_type": "code",
   "execution_count": 1,
   "metadata": {},
   "outputs": [],
   "source": [
    "import pandas as pd\n",
    "import numpy as np\n",
    "import matplotlib.pyplot as plt\n",
    "import seaborn as sns\n",
    "pd.set_option('display.max_columns', None)"
   ]
  },
  {
   "cell_type": "code",
   "execution_count": 2,
   "metadata": {},
   "outputs": [],
   "source": [
    "df = pd.read_csv('../datasets/backfill_median_data.csv')"
   ]
  },
  {
   "cell_type": "markdown",
   "metadata": {},
   "source": [
    "# Examining the Data"
   ]
  },
  {
   "cell_type": "code",
   "execution_count": 3,
   "metadata": {
    "scrolled": true
   },
   "outputs": [
    {
     "data": {
      "text/html": [
       "<div>\n",
       "<style scoped>\n",
       "    .dataframe tbody tr th:only-of-type {\n",
       "        vertical-align: middle;\n",
       "    }\n",
       "\n",
       "    .dataframe tbody tr th {\n",
       "        vertical-align: top;\n",
       "    }\n",
       "\n",
       "    .dataframe thead th {\n",
       "        text-align: right;\n",
       "    }\n",
       "</style>\n",
       "<table border=\"1\" class=\"dataframe\">\n",
       "  <thead>\n",
       "    <tr style=\"text-align: right;\">\n",
       "      <th></th>\n",
       "      <th>pl_name</th>\n",
       "      <th>hostname</th>\n",
       "      <th>disc_facility</th>\n",
       "      <th>pl_orbper</th>\n",
       "      <th>pl_orbsmax</th>\n",
       "      <th>pl_rade</th>\n",
       "      <th>pl_radj</th>\n",
       "      <th>pl_bmasse</th>\n",
       "      <th>pl_bmassj</th>\n",
       "      <th>pl_orbeccen</th>\n",
       "      <th>pl_insol</th>\n",
       "      <th>pl_eqt</th>\n",
       "    </tr>\n",
       "  </thead>\n",
       "  <tbody>\n",
       "    <tr>\n",
       "      <th>0</th>\n",
       "      <td>11 Com b</td>\n",
       "      <td>11 Com</td>\n",
       "      <td>Xinglong Station</td>\n",
       "      <td>326.03000</td>\n",
       "      <td>1.29</td>\n",
       "      <td>12.1</td>\n",
       "      <td>1.08</td>\n",
       "      <td>6165.6000</td>\n",
       "      <td>19.40</td>\n",
       "      <td>0.231</td>\n",
       "      <td>98.09</td>\n",
       "      <td>1700.0</td>\n",
       "    </tr>\n",
       "    <tr>\n",
       "      <th>1</th>\n",
       "      <td>11 UMi b</td>\n",
       "      <td>11 UMi</td>\n",
       "      <td>Thueringer Landessternwarte Tautenburg</td>\n",
       "      <td>516.21997</td>\n",
       "      <td>1.53</td>\n",
       "      <td>12.3</td>\n",
       "      <td>1.09</td>\n",
       "      <td>4684.8142</td>\n",
       "      <td>14.74</td>\n",
       "      <td>0.080</td>\n",
       "      <td>98.09</td>\n",
       "      <td>1700.0</td>\n",
       "    </tr>\n",
       "    <tr>\n",
       "      <th>2</th>\n",
       "      <td>14 And b</td>\n",
       "      <td>14 And</td>\n",
       "      <td>Okayama Astrophysical Observatory</td>\n",
       "      <td>185.84000</td>\n",
       "      <td>0.83</td>\n",
       "      <td>12.9</td>\n",
       "      <td>1.15</td>\n",
       "      <td>1525.5000</td>\n",
       "      <td>4.80</td>\n",
       "      <td>0.000</td>\n",
       "      <td>98.09</td>\n",
       "      <td>1700.0</td>\n",
       "    </tr>\n",
       "    <tr>\n",
       "      <th>3</th>\n",
       "      <td>14 Her b</td>\n",
       "      <td>14 Her</td>\n",
       "      <td>W. M. Keck Observatory</td>\n",
       "      <td>1773.40002</td>\n",
       "      <td>2.93</td>\n",
       "      <td>12.9</td>\n",
       "      <td>1.15</td>\n",
       "      <td>1481.0878</td>\n",
       "      <td>4.66</td>\n",
       "      <td>0.370</td>\n",
       "      <td>98.09</td>\n",
       "      <td>1700.0</td>\n",
       "    </tr>\n",
       "    <tr>\n",
       "      <th>4</th>\n",
       "      <td>16 Cyg B b</td>\n",
       "      <td>16 Cyg B</td>\n",
       "      <td>Multiple Observatories</td>\n",
       "      <td>798.50000</td>\n",
       "      <td>1.66</td>\n",
       "      <td>13.5</td>\n",
       "      <td>1.20</td>\n",
       "      <td>565.7374</td>\n",
       "      <td>1.78</td>\n",
       "      <td>0.680</td>\n",
       "      <td>98.09</td>\n",
       "      <td>1700.0</td>\n",
       "    </tr>\n",
       "  </tbody>\n",
       "</table>\n",
       "</div>"
      ],
      "text/plain": [
       "      pl_name  hostname                           disc_facility   pl_orbper  \\\n",
       "0    11 Com b    11 Com                        Xinglong Station   326.03000   \n",
       "1    11 UMi b    11 UMi  Thueringer Landessternwarte Tautenburg   516.21997   \n",
       "2    14 And b    14 And       Okayama Astrophysical Observatory   185.84000   \n",
       "3    14 Her b    14 Her                  W. M. Keck Observatory  1773.40002   \n",
       "4  16 Cyg B b  16 Cyg B                  Multiple Observatories   798.50000   \n",
       "\n",
       "   pl_orbsmax  pl_rade  pl_radj  pl_bmasse  pl_bmassj  pl_orbeccen  pl_insol  \\\n",
       "0        1.29     12.1     1.08  6165.6000      19.40        0.231     98.09   \n",
       "1        1.53     12.3     1.09  4684.8142      14.74        0.080     98.09   \n",
       "2        0.83     12.9     1.15  1525.5000       4.80        0.000     98.09   \n",
       "3        2.93     12.9     1.15  1481.0878       4.66        0.370     98.09   \n",
       "4        1.66     13.5     1.20   565.7374       1.78        0.680     98.09   \n",
       "\n",
       "   pl_eqt  \n",
       "0  1700.0  \n",
       "1  1700.0  \n",
       "2  1700.0  \n",
       "3  1700.0  \n",
       "4  1700.0  "
      ]
     },
     "execution_count": 3,
     "metadata": {},
     "output_type": "execute_result"
    }
   ],
   "source": [
    "df.head()"
   ]
  },
  {
   "cell_type": "markdown",
   "metadata": {},
   "source": [
    " Dictionary found here:\n",
    " https://exoplanetarchive.ipac.caltech.edu/docs/API_PS_columns.html"
   ]
  },
  {
   "cell_type": "code",
   "execution_count": 4,
   "metadata": {},
   "outputs": [
    {
     "data": {
      "text/plain": [
       "(4364, 12)"
      ]
     },
     "execution_count": 4,
     "metadata": {},
     "output_type": "execute_result"
    }
   ],
   "source": [
    "df.shape"
   ]
  },
  {
   "cell_type": "code",
   "execution_count": 5,
   "metadata": {},
   "outputs": [
    {
     "data": {
      "text/plain": [
       "pl_name           object\n",
       "hostname          object\n",
       "disc_facility     object\n",
       "pl_orbper        float64\n",
       "pl_orbsmax       float64\n",
       "pl_rade          float64\n",
       "pl_radj          float64\n",
       "pl_bmasse        float64\n",
       "pl_bmassj        float64\n",
       "pl_orbeccen      float64\n",
       "pl_insol         float64\n",
       "pl_eqt           float64\n",
       "dtype: object"
      ]
     },
     "execution_count": 5,
     "metadata": {},
     "output_type": "execute_result"
    }
   ],
   "source": [
    "df.dtypes"
   ]
  },
  {
   "cell_type": "code",
   "execution_count": 6,
   "metadata": {
    "scrolled": true
   },
   "outputs": [
    {
     "data": {
      "text/html": [
       "<div>\n",
       "<style scoped>\n",
       "    .dataframe tbody tr th:only-of-type {\n",
       "        vertical-align: middle;\n",
       "    }\n",
       "\n",
       "    .dataframe tbody tr th {\n",
       "        vertical-align: top;\n",
       "    }\n",
       "\n",
       "    .dataframe thead th {\n",
       "        text-align: right;\n",
       "    }\n",
       "</style>\n",
       "<table border=\"1\" class=\"dataframe\">\n",
       "  <thead>\n",
       "    <tr style=\"text-align: right;\">\n",
       "      <th></th>\n",
       "      <th>pl_orbper</th>\n",
       "      <th>pl_orbsmax</th>\n",
       "      <th>pl_rade</th>\n",
       "      <th>pl_radj</th>\n",
       "      <th>pl_bmasse</th>\n",
       "      <th>pl_bmassj</th>\n",
       "      <th>pl_orbeccen</th>\n",
       "      <th>pl_insol</th>\n",
       "      <th>pl_eqt</th>\n",
       "    </tr>\n",
       "  </thead>\n",
       "  <tbody>\n",
       "    <tr>\n",
       "      <th>count</th>\n",
       "      <td>4.364000e+03</td>\n",
       "      <td>4364.000000</td>\n",
       "      <td>4364.000000</td>\n",
       "      <td>4364.000000</td>\n",
       "      <td>4364.000000</td>\n",
       "      <td>4364.000000</td>\n",
       "      <td>4364.000000</td>\n",
       "      <td>4364.000000</td>\n",
       "      <td>4364.000000</td>\n",
       "    </tr>\n",
       "    <tr>\n",
       "      <th>mean</th>\n",
       "      <td>2.038742e+03</td>\n",
       "      <td>5.421018</td>\n",
       "      <td>5.675148</td>\n",
       "      <td>0.506446</td>\n",
       "      <td>465.744018</td>\n",
       "      <td>1.465821</td>\n",
       "      <td>0.074452</td>\n",
       "      <td>453.786045</td>\n",
       "      <td>931.816453</td>\n",
       "    </tr>\n",
       "    <tr>\n",
       "      <th>std</th>\n",
       "      <td>1.105449e+05</td>\n",
       "      <td>91.063696</td>\n",
       "      <td>5.393391</td>\n",
       "      <td>0.481241</td>\n",
       "      <td>4160.491764</td>\n",
       "      <td>13.092439</td>\n",
       "      <td>0.145131</td>\n",
       "      <td>1997.498990</td>\n",
       "      <td>476.461326</td>\n",
       "    </tr>\n",
       "    <tr>\n",
       "      <th>min</th>\n",
       "      <td>9.070629e-02</td>\n",
       "      <td>0.004400</td>\n",
       "      <td>0.296000</td>\n",
       "      <td>0.026000</td>\n",
       "      <td>0.020000</td>\n",
       "      <td>0.000060</td>\n",
       "      <td>0.000000</td>\n",
       "      <td>0.060000</td>\n",
       "      <td>50.000000</td>\n",
       "    </tr>\n",
       "    <tr>\n",
       "      <th>25%</th>\n",
       "      <td>4.554625e+00</td>\n",
       "      <td>0.052775</td>\n",
       "      <td>1.750000</td>\n",
       "      <td>0.156000</td>\n",
       "      <td>3.890000</td>\n",
       "      <td>0.012293</td>\n",
       "      <td>0.000000</td>\n",
       "      <td>24.582500</td>\n",
       "      <td>577.000000</td>\n",
       "    </tr>\n",
       "    <tr>\n",
       "      <th>50%</th>\n",
       "      <td>1.225190e+01</td>\n",
       "      <td>0.101150</td>\n",
       "      <td>2.728000</td>\n",
       "      <td>0.243000</td>\n",
       "      <td>8.400000</td>\n",
       "      <td>0.026400</td>\n",
       "      <td>0.000000</td>\n",
       "      <td>98.090000</td>\n",
       "      <td>840.000000</td>\n",
       "    </tr>\n",
       "    <tr>\n",
       "      <th>75%</th>\n",
       "      <td>4.581893e+01</td>\n",
       "      <td>0.260050</td>\n",
       "      <td>11.882000</td>\n",
       "      <td>1.060000</td>\n",
       "      <td>166.378688</td>\n",
       "      <td>0.523500</td>\n",
       "      <td>0.090000</td>\n",
       "      <td>308.632500</td>\n",
       "      <td>1174.500000</td>\n",
       "    </tr>\n",
       "    <tr>\n",
       "      <th>max</th>\n",
       "      <td>7.300000e+06</td>\n",
       "      <td>3500.000000</td>\n",
       "      <td>77.342000</td>\n",
       "      <td>6.900000</td>\n",
       "      <td>239000.000000</td>\n",
       "      <td>752.000000</td>\n",
       "      <td>0.950000</td>\n",
       "      <td>44900.000000</td>\n",
       "      <td>4050.000000</td>\n",
       "    </tr>\n",
       "  </tbody>\n",
       "</table>\n",
       "</div>"
      ],
      "text/plain": [
       "          pl_orbper   pl_orbsmax      pl_rade      pl_radj      pl_bmasse  \\\n",
       "count  4.364000e+03  4364.000000  4364.000000  4364.000000    4364.000000   \n",
       "mean   2.038742e+03     5.421018     5.675148     0.506446     465.744018   \n",
       "std    1.105449e+05    91.063696     5.393391     0.481241    4160.491764   \n",
       "min    9.070629e-02     0.004400     0.296000     0.026000       0.020000   \n",
       "25%    4.554625e+00     0.052775     1.750000     0.156000       3.890000   \n",
       "50%    1.225190e+01     0.101150     2.728000     0.243000       8.400000   \n",
       "75%    4.581893e+01     0.260050    11.882000     1.060000     166.378688   \n",
       "max    7.300000e+06  3500.000000    77.342000     6.900000  239000.000000   \n",
       "\n",
       "         pl_bmassj  pl_orbeccen      pl_insol       pl_eqt  \n",
       "count  4364.000000  4364.000000   4364.000000  4364.000000  \n",
       "mean      1.465821     0.074452    453.786045   931.816453  \n",
       "std      13.092439     0.145131   1997.498990   476.461326  \n",
       "min       0.000060     0.000000      0.060000    50.000000  \n",
       "25%       0.012293     0.000000     24.582500   577.000000  \n",
       "50%       0.026400     0.000000     98.090000   840.000000  \n",
       "75%       0.523500     0.090000    308.632500  1174.500000  \n",
       "max     752.000000     0.950000  44900.000000  4050.000000  "
      ]
     },
     "execution_count": 6,
     "metadata": {},
     "output_type": "execute_result"
    }
   ],
   "source": [
    "df.describe()"
   ]
  },
  {
   "cell_type": "markdown",
   "metadata": {},
   "source": [
    "# Columns with crazy outliers:\n",
    "- pl_orbper\n",
    "- pl_rade\n",
    "- pl_radj\n",
    "- pl_bmasse\n",
    "- pl_bmassj\n",
    "- pl_insol\n",
    "- pl_eqt\n",
    "\n",
    "I'll try to explore those and see if I need to drop them."
   ]
  },
  {
   "cell_type": "code",
   "execution_count": 7,
   "metadata": {
    "scrolled": true
   },
   "outputs": [
    {
     "data": {
      "text/plain": [
       "pl_name          0\n",
       "hostname         0\n",
       "disc_facility    0\n",
       "pl_orbper        0\n",
       "pl_orbsmax       0\n",
       "pl_rade          0\n",
       "pl_radj          0\n",
       "pl_bmasse        0\n",
       "pl_bmassj        0\n",
       "pl_orbeccen      0\n",
       "pl_insol         0\n",
       "pl_eqt           0\n",
       "dtype: int64"
      ]
     },
     "execution_count": 7,
     "metadata": {},
     "output_type": "execute_result"
    }
   ],
   "source": [
    "df.isna().sum()"
   ]
  },
  {
   "cell_type": "markdown",
   "metadata": {},
   "source": [
    "## EDA"
   ]
  },
  {
   "cell_type": "code",
   "execution_count": 8,
   "metadata": {
    "scrolled": true
   },
   "outputs": [
    {
     "data": {
      "image/png": "[encoded data removed]",
      "text/plain": [
       "<Figure size 432x288 with 1 Axes>"
      ]
     },
     "metadata": {
      "needs_background": "light"
     },
     "output_type": "display_data"
    }
   ],
   "source": [
    "plt.title('Distribution of Orbital Periods')\n",
    "plt.boxplot(df['pl_orbper']);"
   ]
  },
  {
   "cell_type": "markdown",
   "metadata": {},
   "source": [
    "That top value is a huge outlier, and will throw off everything.  It's only one planet, so I feel comfortable dropping it from the data."
   ]
  },
  {
   "cell_type": "code",
   "execution_count": 9,
   "metadata": {},
   "outputs": [
    {
     "data": {
      "text/plain": [
       "7300000.0"
      ]
     },
     "execution_count": 9,
     "metadata": {},
     "output_type": "execute_result"
    }
   ],
   "source": [
    "df['pl_orbper'].max()"
   ]
  },
  {
   "cell_type": "code",
   "execution_count": 10,
   "metadata": {},
   "outputs": [
    {
     "data": {
      "text/html": [
       "<div>\n",
       "<style scoped>\n",
       "    .dataframe tbody tr th:only-of-type {\n",
       "        vertical-align: middle;\n",
       "    }\n",
       "\n",
       "    .dataframe tbody tr th {\n",
       "        vertical-align: top;\n",
       "    }\n",
       "\n",
       "    .dataframe thead th {\n",
       "        text-align: right;\n",
       "    }\n",
       "</style>\n",
       "<table border=\"1\" class=\"dataframe\">\n",
       "  <thead>\n",
       "    <tr style=\"text-align: right;\">\n",
       "      <th></th>\n",
       "      <th>pl_name</th>\n",
       "      <th>hostname</th>\n",
       "      <th>disc_facility</th>\n",
       "      <th>pl_orbper</th>\n",
       "      <th>pl_orbsmax</th>\n",
       "      <th>pl_rade</th>\n",
       "      <th>pl_radj</th>\n",
       "      <th>pl_bmasse</th>\n",
       "      <th>pl_bmassj</th>\n",
       "      <th>pl_orbeccen</th>\n",
       "      <th>pl_insol</th>\n",
       "      <th>pl_eqt</th>\n",
       "    </tr>\n",
       "  </thead>\n",
       "  <tbody>\n",
       "    <tr>\n",
       "      <th>3991</th>\n",
       "      <td>Oph 11 b</td>\n",
       "      <td>Oph 11</td>\n",
       "      <td>Gemini Observatory</td>\n",
       "      <td>7300000.0</td>\n",
       "      <td>243.0</td>\n",
       "      <td>12.3</td>\n",
       "      <td>1.1</td>\n",
       "      <td>4449.62</td>\n",
       "      <td>14.0</td>\n",
       "      <td>0.19</td>\n",
       "      <td>1.21</td>\n",
       "      <td>2175.0</td>\n",
       "    </tr>\n",
       "  </tbody>\n",
       "</table>\n",
       "</div>"
      ],
      "text/plain": [
       "       pl_name hostname       disc_facility  pl_orbper  pl_orbsmax  pl_rade  \\\n",
       "3991  Oph 11 b   Oph 11  Gemini Observatory  7300000.0       243.0     12.3   \n",
       "\n",
       "      pl_radj  pl_bmasse  pl_bmassj  pl_orbeccen  pl_insol  pl_eqt  \n",
       "3991      1.1    4449.62       14.0         0.19      1.21  2175.0  "
      ]
     },
     "execution_count": 10,
     "metadata": {},
     "output_type": "execute_result"
    }
   ],
   "source": [
    "df[df['pl_orbper'] == 7300000.0]"
   ]
  },
  {
   "cell_type": "code",
   "execution_count": 11,
   "metadata": {},
   "outputs": [],
   "source": [
    "df = df.drop(index = 3991)"
   ]
  },
  {
   "cell_type": "code",
   "execution_count": 12,
   "metadata": {},
   "outputs": [
    {
     "data": {
      "text/plain": [
       "count      4363.000000\n",
       "mean        366.048291\n",
       "std        3183.392601\n",
       "min           0.090706\n",
       "25%           4.553550\n",
       "50%          12.251900\n",
       "75%          45.569635\n",
       "max      170000.000000\n",
       "Name: pl_orbper, dtype: float64"
      ]
     },
     "execution_count": 12,
     "metadata": {},
     "output_type": "execute_result"
    }
   ],
   "source": [
    "df['pl_orbper'].describe()"
   ]
  },
  {
   "cell_type": "code",
   "execution_count": 13,
   "metadata": {},
   "outputs": [
    {
     "data": {
      "text/html": [
       "<div>\n",
       "<style scoped>\n",
       "    .dataframe tbody tr th:only-of-type {\n",
       "        vertical-align: middle;\n",
       "    }\n",
       "\n",
       "    .dataframe tbody tr th {\n",
       "        vertical-align: top;\n",
       "    }\n",
       "\n",
       "    .dataframe thead th {\n",
       "        text-align: right;\n",
       "    }\n",
       "</style>\n",
       "<table border=\"1\" class=\"dataframe\">\n",
       "  <thead>\n",
       "    <tr style=\"text-align: right;\">\n",
       "      <th></th>\n",
       "      <th>pl_name</th>\n",
       "      <th>hostname</th>\n",
       "      <th>disc_facility</th>\n",
       "      <th>pl_orbper</th>\n",
       "      <th>pl_orbsmax</th>\n",
       "      <th>pl_rade</th>\n",
       "      <th>pl_radj</th>\n",
       "      <th>pl_bmasse</th>\n",
       "      <th>pl_bmassj</th>\n",
       "      <th>pl_orbeccen</th>\n",
       "      <th>pl_insol</th>\n",
       "      <th>pl_eqt</th>\n",
       "    </tr>\n",
       "  </thead>\n",
       "  <tbody>\n",
       "    <tr>\n",
       "      <th>1022</th>\n",
       "      <td>HR 8799 b</td>\n",
       "      <td>HR 8799</td>\n",
       "      <td>Gemini Observatory</td>\n",
       "      <td>170000.0</td>\n",
       "      <td>68.0</td>\n",
       "      <td>13.000</td>\n",
       "      <td>1.20</td>\n",
       "      <td>2000.00</td>\n",
       "      <td>7.0</td>\n",
       "      <td>0.50</td>\n",
       "      <td>54.10</td>\n",
       "      <td>1200.0</td>\n",
       "    </tr>\n",
       "    <tr>\n",
       "      <th>1023</th>\n",
       "      <td>HR 8799 c</td>\n",
       "      <td>HR 8799</td>\n",
       "      <td>Gemini Observatory</td>\n",
       "      <td>69000.0</td>\n",
       "      <td>38.0</td>\n",
       "      <td>13.000</td>\n",
       "      <td>1.20</td>\n",
       "      <td>3000.00</td>\n",
       "      <td>10.0</td>\n",
       "      <td>0.50</td>\n",
       "      <td>54.10</td>\n",
       "      <td>1200.0</td>\n",
       "    </tr>\n",
       "    <tr>\n",
       "      <th>1024</th>\n",
       "      <td>HR 8799 d</td>\n",
       "      <td>HR 8799</td>\n",
       "      <td>W. M. Keck Observatory</td>\n",
       "      <td>37000.0</td>\n",
       "      <td>24.0</td>\n",
       "      <td>13.000</td>\n",
       "      <td>1.20</td>\n",
       "      <td>3000.00</td>\n",
       "      <td>10.0</td>\n",
       "      <td>0.60</td>\n",
       "      <td>54.10</td>\n",
       "      <td>1300.0</td>\n",
       "    </tr>\n",
       "    <tr>\n",
       "      <th>3992</th>\n",
       "      <td>PDS 70 b</td>\n",
       "      <td>PDS 70</td>\n",
       "      <td>Paranal Observatory</td>\n",
       "      <td>43500.0</td>\n",
       "      <td>20.0</td>\n",
       "      <td>30.488</td>\n",
       "      <td>2.72</td>\n",
       "      <td>953.49</td>\n",
       "      <td>3.0</td>\n",
       "      <td>0.19</td>\n",
       "      <td>1.21</td>\n",
       "      <td>1204.0</td>\n",
       "    </tr>\n",
       "  </tbody>\n",
       "</table>\n",
       "</div>"
      ],
      "text/plain": [
       "        pl_name hostname           disc_facility  pl_orbper  pl_orbsmax  \\\n",
       "1022  HR 8799 b  HR 8799      Gemini Observatory   170000.0        68.0   \n",
       "1023  HR 8799 c  HR 8799      Gemini Observatory    69000.0        38.0   \n",
       "1024  HR 8799 d  HR 8799  W. M. Keck Observatory    37000.0        24.0   \n",
       "3992   PDS 70 b   PDS 70     Paranal Observatory    43500.0        20.0   \n",
       "\n",
       "      pl_rade  pl_radj  pl_bmasse  pl_bmassj  pl_orbeccen  pl_insol  pl_eqt  \n",
       "1022   13.000     1.20    2000.00        7.0         0.50     54.10  1200.0  \n",
       "1023   13.000     1.20    3000.00       10.0         0.50     54.10  1200.0  \n",
       "1024   13.000     1.20    3000.00       10.0         0.60     54.10  1300.0  \n",
       "3992   30.488     2.72     953.49        3.0         0.19      1.21  1204.0  "
      ]
     },
     "execution_count": 13,
     "metadata": {},
     "output_type": "execute_result"
    }
   ],
   "source": [
    "df[df['pl_orbper'] > 30_000]\n"
   ]
  },
  {
   "cell_type": "markdown",
   "metadata": {},
   "source": [
    "There are a handful of extremely high orbital period planets remaining in my dataset.\n",
    "I'm opting to leave these in for now:  They are still valid, without being so profoundly\n",
    "#unusual as Oph 11 b."
   ]
  },
  {
   "cell_type": "code",
   "execution_count": 14,
   "metadata": {},
   "outputs": [
    {
     "data": {
      "image/png": "[encoded data removed]",
      "text/plain": [
       "<Figure size 432x288 with 1 Axes>"
      ]
     },
     "metadata": {
      "needs_background": "light"
     },
     "output_type": "display_data"
    }
   ],
   "source": [
    "#a measure of a planet's size: Length of it's radius, in units of the radius of the Earth.\n",
    "plt.title('Distribution of Exoplanet radius size in Earth Radius units')\n",
    "plt.boxplot(df['pl_rade']);"
   ]
  },
  {
   "cell_type": "code",
   "execution_count": 15,
   "metadata": {},
   "outputs": [
    {
     "data": {
      "text/plain": [
       "77.342"
      ]
     },
     "execution_count": 15,
     "metadata": {},
     "output_type": "execute_result"
    }
   ],
   "source": [
    "df['pl_rade'].max()"
   ]
  },
  {
   "cell_type": "code",
   "execution_count": 16,
   "metadata": {},
   "outputs": [
    {
     "data": {
      "text/html": [
       "<div>\n",
       "<style scoped>\n",
       "    .dataframe tbody tr th:only-of-type {\n",
       "        vertical-align: middle;\n",
       "    }\n",
       "\n",
       "    .dataframe tbody tr th {\n",
       "        vertical-align: top;\n",
       "    }\n",
       "\n",
       "    .dataframe thead th {\n",
       "        text-align: right;\n",
       "    }\n",
       "</style>\n",
       "<table border=\"1\" class=\"dataframe\">\n",
       "  <thead>\n",
       "    <tr style=\"text-align: right;\">\n",
       "      <th></th>\n",
       "      <th>pl_name</th>\n",
       "      <th>hostname</th>\n",
       "      <th>disc_facility</th>\n",
       "      <th>pl_orbper</th>\n",
       "      <th>pl_orbsmax</th>\n",
       "      <th>pl_rade</th>\n",
       "      <th>pl_radj</th>\n",
       "      <th>pl_bmasse</th>\n",
       "      <th>pl_bmassj</th>\n",
       "      <th>pl_orbeccen</th>\n",
       "      <th>pl_insol</th>\n",
       "      <th>pl_eqt</th>\n",
       "    </tr>\n",
       "  </thead>\n",
       "  <tbody>\n",
       "    <tr>\n",
       "      <th>387</th>\n",
       "      <td>HD 100546 b</td>\n",
       "      <td>HD 100546</td>\n",
       "      <td>Paranal Observatory</td>\n",
       "      <td>157.57001</td>\n",
       "      <td>53.0</td>\n",
       "      <td>77.342</td>\n",
       "      <td>6.9</td>\n",
       "      <td>239000.0</td>\n",
       "      <td>752.0</td>\n",
       "      <td>0.09</td>\n",
       "      <td>98.09</td>\n",
       "      <td>840.0</td>\n",
       "    </tr>\n",
       "  </tbody>\n",
       "</table>\n",
       "</div>"
      ],
      "text/plain": [
       "         pl_name   hostname        disc_facility  pl_orbper  pl_orbsmax  \\\n",
       "387  HD 100546 b  HD 100546  Paranal Observatory  157.57001        53.0   \n",
       "\n",
       "     pl_rade  pl_radj  pl_bmasse  pl_bmassj  pl_orbeccen  pl_insol  pl_eqt  \n",
       "387   77.342      6.9   239000.0      752.0         0.09     98.09   840.0  "
      ]
     },
     "execution_count": 16,
     "metadata": {},
     "output_type": "execute_result"
    }
   ],
   "source": [
    "df[df['pl_rade']== 77.342]"
   ]
  },
  {
   "cell_type": "markdown",
   "metadata": {},
   "source": [
    "Similar to the above, I will drop the most extreme outlier, and leave the outliers closer to the body of the graph in."
   ]
  },
  {
   "cell_type": "code",
   "execution_count": 17,
   "metadata": {},
   "outputs": [],
   "source": [
    "df = df.drop(index = 387)"
   ]
  },
  {
   "cell_type": "code",
   "execution_count": 18,
   "metadata": {},
   "outputs": [
    {
     "data": {
      "image/png": "[encoded data removed]",
      "text/plain": [
       "<Figure size 432x288 with 1 Axes>"
      ]
     },
     "metadata": {
      "needs_background": "light"
     },
     "output_type": "display_data"
    }
   ],
   "source": [
    "#best estimated measure of a planet's mass, in units of Earth's mass.\n",
    "plt.title('Distribution of Masses in Earth Mass Units')\n",
    "plt.boxplot(df['pl_bmasse']);"
   ]
  },
  {
   "cell_type": "markdown",
   "metadata": {},
   "source": [
    "Lots of outliers here, but dropping the 8 highest feels comfortable."
   ]
  },
  {
   "cell_type": "code",
   "execution_count": 19,
   "metadata": {},
   "outputs": [
    {
     "data": {
      "text/html": [
       "<div>\n",
       "<style scoped>\n",
       "    .dataframe tbody tr th:only-of-type {\n",
       "        vertical-align: middle;\n",
       "    }\n",
       "\n",
       "    .dataframe tbody tr th {\n",
       "        vertical-align: top;\n",
       "    }\n",
       "\n",
       "    .dataframe thead th {\n",
       "        text-align: right;\n",
       "    }\n",
       "</style>\n",
       "<table border=\"1\" class=\"dataframe\">\n",
       "  <thead>\n",
       "    <tr style=\"text-align: right;\">\n",
       "      <th></th>\n",
       "      <th>pl_name</th>\n",
       "      <th>hostname</th>\n",
       "      <th>disc_facility</th>\n",
       "      <th>pl_orbper</th>\n",
       "      <th>pl_orbsmax</th>\n",
       "      <th>pl_rade</th>\n",
       "      <th>pl_radj</th>\n",
       "      <th>pl_bmasse</th>\n",
       "      <th>pl_bmassj</th>\n",
       "      <th>pl_orbeccen</th>\n",
       "      <th>pl_insol</th>\n",
       "      <th>pl_eqt</th>\n",
       "    </tr>\n",
       "  </thead>\n",
       "  <tbody>\n",
       "    <tr>\n",
       "      <th>1345</th>\n",
       "      <td>K2-52 b</td>\n",
       "      <td>K2-52</td>\n",
       "      <td>K2</td>\n",
       "      <td>3.535055</td>\n",
       "      <td>0.0540</td>\n",
       "      <td>18.00</td>\n",
       "      <td>1.606</td>\n",
       "      <td>45700.0</td>\n",
       "      <td>144.0</td>\n",
       "      <td>0.07</td>\n",
       "      <td>1124.00</td>\n",
       "      <td>2004.0</td>\n",
       "    </tr>\n",
       "    <tr>\n",
       "      <th>3160</th>\n",
       "      <td>Kepler-470 b</td>\n",
       "      <td>Kepler-470</td>\n",
       "      <td>Kepler</td>\n",
       "      <td>24.669196</td>\n",
       "      <td>0.2322</td>\n",
       "      <td>14.44</td>\n",
       "      <td>1.288</td>\n",
       "      <td>35600.0</td>\n",
       "      <td>112.0</td>\n",
       "      <td>0.00</td>\n",
       "      <td>41.20</td>\n",
       "      <td>1485.0</td>\n",
       "    </tr>\n",
       "    <tr>\n",
       "      <th>3161</th>\n",
       "      <td>Kepler-471 b</td>\n",
       "      <td>Kepler-471</td>\n",
       "      <td>Kepler</td>\n",
       "      <td>5.014235</td>\n",
       "      <td>0.0626</td>\n",
       "      <td>14.96</td>\n",
       "      <td>1.335</td>\n",
       "      <td>37000.0</td>\n",
       "      <td>117.0</td>\n",
       "      <td>0.00</td>\n",
       "      <td>1146.88</td>\n",
       "      <td>1308.0</td>\n",
       "    </tr>\n",
       "    <tr>\n",
       "      <th>3179</th>\n",
       "      <td>Kepler-485 b</td>\n",
       "      <td>Kepler-485</td>\n",
       "      <td>Kepler</td>\n",
       "      <td>3.243260</td>\n",
       "      <td>0.0433</td>\n",
       "      <td>14.41</td>\n",
       "      <td>1.286</td>\n",
       "      <td>35500.0</td>\n",
       "      <td>112.0</td>\n",
       "      <td>0.00</td>\n",
       "      <td>622.01</td>\n",
       "      <td>1243.0</td>\n",
       "    </tr>\n",
       "    <tr>\n",
       "      <th>3183</th>\n",
       "      <td>Kepler-488 b</td>\n",
       "      <td>Kepler-488</td>\n",
       "      <td>Kepler</td>\n",
       "      <td>3.120829</td>\n",
       "      <td>0.0428</td>\n",
       "      <td>15.79</td>\n",
       "      <td>1.409</td>\n",
       "      <td>39400.0</td>\n",
       "      <td>124.0</td>\n",
       "      <td>0.00</td>\n",
       "      <td>778.51</td>\n",
       "      <td>1303.0</td>\n",
       "    </tr>\n",
       "    <tr>\n",
       "      <th>3192</th>\n",
       "      <td>Kepler-493 b</td>\n",
       "      <td>Kepler-493</td>\n",
       "      <td>Kepler</td>\n",
       "      <td>3.003877</td>\n",
       "      <td>0.0439</td>\n",
       "      <td>15.13</td>\n",
       "      <td>1.350</td>\n",
       "      <td>37500.0</td>\n",
       "      <td>118.0</td>\n",
       "      <td>0.00</td>\n",
       "      <td>1414.33</td>\n",
       "      <td>1438.0</td>\n",
       "    </tr>\n",
       "    <tr>\n",
       "      <th>3489</th>\n",
       "      <td>Kepler-718 b</td>\n",
       "      <td>Kepler-718</td>\n",
       "      <td>Kepler</td>\n",
       "      <td>2.052350</td>\n",
       "      <td>0.0322</td>\n",
       "      <td>16.56</td>\n",
       "      <td>1.477</td>\n",
       "      <td>41600.0</td>\n",
       "      <td>131.0</td>\n",
       "      <td>0.00</td>\n",
       "      <td>1324.20</td>\n",
       "      <td>1497.0</td>\n",
       "    </tr>\n",
       "    <tr>\n",
       "      <th>3658</th>\n",
       "      <td>Kepler-840 b</td>\n",
       "      <td>Kepler-840</td>\n",
       "      <td>Kepler</td>\n",
       "      <td>2.495780</td>\n",
       "      <td>0.0355</td>\n",
       "      <td>17.07</td>\n",
       "      <td>1.523</td>\n",
       "      <td>43000.0</td>\n",
       "      <td>135.0</td>\n",
       "      <td>0.00</td>\n",
       "      <td>2258.80</td>\n",
       "      <td>1408.0</td>\n",
       "    </tr>\n",
       "    <tr>\n",
       "      <th>3676</th>\n",
       "      <td>Kepler-854 b</td>\n",
       "      <td>Kepler-854</td>\n",
       "      <td>Kepler</td>\n",
       "      <td>2.144633</td>\n",
       "      <td>0.0334</td>\n",
       "      <td>16.72</td>\n",
       "      <td>1.492</td>\n",
       "      <td>42000.0</td>\n",
       "      <td>132.0</td>\n",
       "      <td>0.00</td>\n",
       "      <td>7282.96</td>\n",
       "      <td>1736.0</td>\n",
       "    </tr>\n",
       "  </tbody>\n",
       "</table>\n",
       "</div>"
      ],
      "text/plain": [
       "           pl_name    hostname disc_facility  pl_orbper  pl_orbsmax  pl_rade  \\\n",
       "1345       K2-52 b       K2-52            K2   3.535055      0.0540    18.00   \n",
       "3160  Kepler-470 b  Kepler-470        Kepler  24.669196      0.2322    14.44   \n",
       "3161  Kepler-471 b  Kepler-471        Kepler   5.014235      0.0626    14.96   \n",
       "3179  Kepler-485 b  Kepler-485        Kepler   3.243260      0.0433    14.41   \n",
       "3183  Kepler-488 b  Kepler-488        Kepler   3.120829      0.0428    15.79   \n",
       "3192  Kepler-493 b  Kepler-493        Kepler   3.003877      0.0439    15.13   \n",
       "3489  Kepler-718 b  Kepler-718        Kepler   2.052350      0.0322    16.56   \n",
       "3658  Kepler-840 b  Kepler-840        Kepler   2.495780      0.0355    17.07   \n",
       "3676  Kepler-854 b  Kepler-854        Kepler   2.144633      0.0334    16.72   \n",
       "\n",
       "      pl_radj  pl_bmasse  pl_bmassj  pl_orbeccen  pl_insol  pl_eqt  \n",
       "1345    1.606    45700.0      144.0         0.07   1124.00  2004.0  \n",
       "3160    1.288    35600.0      112.0         0.00     41.20  1485.0  \n",
       "3161    1.335    37000.0      117.0         0.00   1146.88  1308.0  \n",
       "3179    1.286    35500.0      112.0         0.00    622.01  1243.0  \n",
       "3183    1.409    39400.0      124.0         0.00    778.51  1303.0  \n",
       "3192    1.350    37500.0      118.0         0.00   1414.33  1438.0  \n",
       "3489    1.477    41600.0      131.0         0.00   1324.20  1497.0  \n",
       "3658    1.523    43000.0      135.0         0.00   2258.80  1408.0  \n",
       "3676    1.492    42000.0      132.0         0.00   7282.96  1736.0  "
      ]
     },
     "execution_count": 19,
     "metadata": {},
     "output_type": "execute_result"
    }
   ],
   "source": [
    "\n",
    "df[df['pl_bmasse'] >= 30_000]"
   ]
  },
  {
   "cell_type": "code",
   "execution_count": 20,
   "metadata": {},
   "outputs": [],
   "source": [
    "df = df.drop(df[df['pl_bmasse'] >= 30_000].index)"
   ]
  },
  {
   "cell_type": "code",
   "execution_count": 21,
   "metadata": {},
   "outputs": [
    {
     "data": {
      "image/png": "[encoded data removed]",
      "text/plain": [
       "<Figure size 432x288 with 1 Axes>"
      ]
     },
     "metadata": {
      "needs_background": "light"
     },
     "output_type": "display_data"
    }
   ],
   "source": [
    "#insolation flux is one way of measuring a planet's temperature.\n",
    "\n",
    "plt.boxplot(df['pl_insol']);"
   ]
  },
  {
   "cell_type": "code",
   "execution_count": 22,
   "metadata": {
    "scrolled": true
   },
   "outputs": [
    {
     "data": {
      "text/plain": [
       "44900.0"
      ]
     },
     "execution_count": 22,
     "metadata": {},
     "output_type": "execute_result"
    }
   ],
   "source": [
    "df['pl_insol'].max()"
   ]
  },
  {
   "cell_type": "markdown",
   "metadata": {},
   "source": [
    "As above, so below:  dropping the one outlier that is way, way out on its own."
   ]
  },
  {
   "cell_type": "code",
   "execution_count": 23,
   "metadata": {},
   "outputs": [],
   "source": [
    "\n",
    "df = df.drop(df[df['pl_insol'] >= 20_000].index)"
   ]
  },
  {
   "cell_type": "code",
   "execution_count": 24,
   "metadata": {
    "scrolled": true
   },
   "outputs": [
    {
     "data": {
      "image/png": "[encoded data removed]",
      "text/plain": [
       "<Figure size 432x288 with 1 Axes>"
      ]
     },
     "metadata": {
      "needs_background": "light"
     },
     "output_type": "display_data"
    }
   ],
   "source": [
    "#The prettiest box plot yet!  I'll leave these as is.\n",
    "plt.boxplot(df['pl_eqt']);"
   ]
  },
  {
   "cell_type": "markdown",
   "metadata": {},
   "source": [
    "Thankfully, after culling these outliers, I still have many, many rows to work with.  What's more, after reading more into my data dictionary, I'm dropping some columns that are measures of the same metric, but in different units."
   ]
  },
  {
   "cell_type": "code",
   "execution_count": 25,
   "metadata": {},
   "outputs": [
    {
     "name": "stdout",
     "output_type": "stream",
     "text": [
      "(4345, 12)\n",
      "(4345, 10)\n"
     ]
    }
   ],
   "source": [
    "print(df.shape)\n",
    "\n",
    "df = df.drop(columns = ['pl_radj', 'pl_bmassj'])\n",
    "print(df.shape)"
   ]
  },
  {
   "cell_type": "code",
   "execution_count": 27,
   "metadata": {},
   "outputs": [],
   "source": [
    "df.to_csv('../datasets/clean_planetary_data.csv')"
   ]
  },
  {
   "cell_type": "code",
   "execution_count": 28,
   "metadata": {},
   "outputs": [
    {
     "data": {
      "text/plain": [
       "Index(['pl_name', 'hostname', 'disc_facility', 'pl_orbper', 'pl_orbsmax',\n",
       "       'pl_rade', 'pl_bmasse', 'pl_orbeccen', 'pl_insol', 'pl_eqt'],\n",
       "      dtype='object')"
      ]
     },
     "execution_count": 28,
     "metadata": {},
     "output_type": "execute_result"
    }
   ],
   "source": [
    "df.columns"
   ]
  }
 ],
 "metadata": {
  "kernelspec": {
   "display_name": "Python 3",
   "language": "python",
   "name": "python3"
  },
  "language_info": {
   "codemirror_mode": {
    "name": "ipython",
    "version": 3
   },
   "file_extension": ".py",
   "mimetype": "text/x-python",
   "name": "python",
   "nbconvert_exporter": "python",
   "pygments_lexer": "ipython3",
   "version": "3.8.5"
  }
 },
 "nbformat": 4,
 "nbformat_minor": 4
}
